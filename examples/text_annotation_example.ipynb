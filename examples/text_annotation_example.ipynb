{
 "cells": [
  {
   "cell_type": "markdown",
   "metadata": {},
   "source": [
    "<img src=\"../public/colorlogo.png\" width=\"50%\"/>\n",
    "\n",
    "\n",
    "[Homepage](https://www.datafog.ai) | \n",
    "[Discord](https://discord.gg/bzDth394R4) | \n",
    "[Github](https://github.com/datafog/datafog-python) | \n",
    "[Contact](mailto:sid@datafog.ai) |\n",
    "[Documentation](https://www.datafog.ai/datafog-docs/)"
   ]
  },
  {
   "cell_type": "markdown",
   "metadata": {},
   "source": [
    "# Objective\n",
    "- Cover a simple text annotation example"
   ]
  },
  {
   "cell_type": "code",
   "execution_count": null,
   "metadata": {},
   "outputs": [],
   "source": [
    "!pip install --upgrade datafog --quiet"
   ]
  },
  {
   "cell_type": "code",
   "execution_count": 4,
   "metadata": {},
   "outputs": [],
   "source": [
    "!python -m venv venv\n",
    "!source venv/bin/activate"
   ]
  },
  {
   "cell_type": "code",
   "execution_count": 5,
   "metadata": {},
   "outputs": [],
   "source": [
    "from datafog import DataFog\n",
    "\n",
    "client = DataFog(operations=\"scan\")\n"
   ]
  },
  {
   "cell_type": "code",
   "execution_count": 14,
   "metadata": {},
   "outputs": [
    {
     "name": "stdout",
     "output_type": "stream",
     "text": [
      "Starting on **Date:**\n",
      "Done processing **Date:**\n",
      "Starting on **Patient:**\n",
      "Done processing **Patient:**\n",
      "Starting on **MRN:**\n",
      "Done processing **MRN:**\n",
      "Starting on **Chief\n",
      "Done processing **Chief\n",
      "Starting on **History\n",
      "Done processing **History\n",
      "Starting on **Past\n",
      "Done processing **Past\n",
      "Starting on **Social\n",
      "Done processing **Social\n",
      "Starting on The\n",
      "Done processing The\n",
      "Starting on **Review\n",
      "Done processing **Review\n",
      "Starting on **Physical\n",
      "Done processing **Physical\n",
      "Starting on -\n",
      "Done processing -\n",
      "Starting on -\n",
      "Done processing -\n",
      "Starting on **Assessment/Plan:**\n",
      "Done processing **Assessment/Plan:**\n",
      "Starting on -\n",
      "Done processing -\n",
      "Starting on -\n",
      "Done processing -\n",
      "Starting on -\n",
      "Done processing -\n",
      "Starting on -\n",
      "Done processing -\n",
      "Starting on -\n",
      "Done processing -\n",
      "Starting on **Comments:**\n",
      "Done processing **Comments:**\n",
      "{'**Date:** April 10, 2024': {'DATE_TIME': ['April 10,'], 'LOC': [], 'NRP': [], 'ORG': [], 'PER': []}, '**Patient:** Emily Johnson, 35 years old': {'DATE_TIME': ['35 years old'], 'LOC': [], 'NRP': [], 'ORG': [], 'PER': ['Emily Johnson']}, '**MRN:** 00987654': {'DATE_TIME': [], 'LOC': [], 'NRP': [], 'ORG': [], 'PER': []}, '**Chief Complaint:** \"I\\'ve been experiencing severe back pain and numbness in my legs.\"': {'DATE_TIME': [], 'LOC': [], 'NRP': [], 'ORG': [], 'PER': []}, '**History of Present Illness:** The patient is a 35-year-old who presents with a 2-month history of worsening back pain, numbness in both legs, and occasional tingling sensations. The patient reports working as a freelance writer and has been experiencing increased stress due to tight deadlines and financial struggles.': {'DATE_TIME': ['35-year-old', '2-month'], 'LOC': [], 'NRP': [], 'ORG': ['Present Illness'], 'PER': []}, '**Past Medical History:** Hypothyroidism': {'DATE_TIME': [], 'LOC': [], 'NRP': ['Hypothyroidism'], 'ORG': [], 'PER': []}, '**Social History:**': {'DATE_TIME': [], 'LOC': [], 'NRP': [], 'ORG': ['Social History'], 'PER': []}, 'The patient shares a small apartment with two roommates and relies on public transportation. They mention feeling overwhelmed with work and personal responsibilities, often sacrificing sleep to meet deadlines. The patient expresses concern over the high cost of healthcare and the need for affordable medication options.': {'DATE_TIME': [], 'LOC': [], 'NRP': [], 'ORG': [], 'PER': []}, '**Review of Systems:** Denies fever, chest pain, or shortness of breath. Reports occasional headaches.': {'DATE_TIME': [], 'LOC': [], 'NRP': [], 'ORG': ['Review of Systems'], 'PER': []}, '**Physical Examination:**': {'DATE_TIME': [], 'LOC': [], 'NRP': [], 'ORG': [], 'PER': []}, '- General: Appears tired but is alert and oriented.': {'DATE_TIME': [], 'LOC': ['Appears'], 'NRP': [], 'ORG': [], 'PER': []}, '- Vitals: BP 128/80, HR 72, Temp 98.6°F, Resp 14/min': {'DATE_TIME': [], 'LOC': [], 'NRP': [], 'ORG': [], 'PER': []}, '**Assessment/Plan:**': {'DATE_TIME': [], 'LOC': [], 'NRP': [], 'ORG': [], 'PER': []}, '- Continue to monitor blood pressure and thyroid function.': {'DATE_TIME': [], 'LOC': [], 'NRP': [], 'ORG': [], 'PER': []}, '- Discuss affordable medication options with a pharmacist.': {'DATE_TIME': [], 'LOC': [], 'NRP': [], 'ORG': [], 'PER': []}, '- Refer to a social worker to address housing concerns and access to healthcare services.': {'DATE_TIME': [], 'LOC': [], 'NRP': [], 'ORG': [], 'PER': ['Refer']}, '- Encourage the patient to engage with community support groups for social support.': {'DATE_TIME': [], 'LOC': [], 'NRP': [], 'ORG': [], 'PER': []}, '- Schedule a follow-up appointment in 4 weeks or sooner if symptoms worsen.': {'DATE_TIME': ['4 weeks'], 'LOC': [], 'NRP': [], 'ORG': [], 'PER': []}, \"**Comments:** The patient's health concerns are compounded by socioeconomic factors, including employment status, housing stability, and access to healthcare. Addressing these social determinants of health is crucial for improving the patient's overall well-being.\": {'DATE_TIME': [], 'LOC': [], 'NRP': [], 'ORG': [], 'PER': []}}\n"
     ]
    }
   ],
   "source": [
    "# Use a sample medical record\n",
    "doc_url = \"https://gist.githubusercontent.com/sidmohan0/b43b72693226422bac5f083c941ecfdb/raw/b819affb51796204d59987893f89dee18428ed5d/note1.txt\"\n",
    "\n",
    "import requests\n",
    "\n",
    "doc_url = \"https://gist.githubusercontent.com/sidmohan0/b43b72693226422bac5f083c941ecfdb/raw/b819affb51796204d59987893f89dee18428ed5d/note1.txt\"\n",
    "response = requests.get(doc_url)\n",
    "text_lines = response.text.splitlines()\n",
    "text_lines = [line for line in text_lines if line.strip()]\n",
    "\n",
    "annotations = client.run_text_pipeline_sync(str_list=text_lines)\n",
    "\n",
    "print(annotations)\n"
   ]
  }
 ],
 "metadata": {
  "kernelspec": {
   "display_name": "2.2.0b1",
   "language": "python",
   "name": "python3"
  },
  "language_info": {
   "codemirror_mode": {
    "name": "ipython",
    "version": 3
   },
   "file_extension": ".py",
   "mimetype": "text/x-python",
   "name": "python",
   "nbconvert_exporter": "python",
   "pygments_lexer": "ipython3",
   "version": "3.11.7"
  }
 },
 "nbformat": 4,
 "nbformat_minor": 2
}
