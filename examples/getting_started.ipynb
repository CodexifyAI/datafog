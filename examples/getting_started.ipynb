{
 "cells": [
  {
   "cell_type": "markdown",
   "metadata": {},
   "source": [
    "<img src=\"../public/colorlogo.png\" width=\"50%\"/>\n",
    "\n",
    "\n",
    "[Homepage](https://www.datafog.ai) | \n",
    "[Discord](https://discord.gg/bzDth394R4) | \n",
    "[Github](https://github.com/datafog/datafog-python) | \n",
    "[Contact](mailto:sid@datafog.ai)\n",
    "\n"
   ]
  },
  {
   "cell_type": "markdown",
   "metadata": {},
   "source": [
    "### Setup"
   ]
  },
  {
   "cell_type": "code",
   "execution_count": null,
   "metadata": {},
   "outputs": [],
   "source": [
    "!pip install --upgrade datafog --quiet"
   ]
  },
  {
   "cell_type": "markdown",
   "metadata": {},
   "source": [
    "Pytesseract (OCR) dependencies:"
   ]
  },
  {
   "cell_type": "code",
   "execution_count": null,
   "metadata": {},
   "outputs": [],
   "source": [
    "! apt install tesseract-ocr\n",
    "! apt install libtesseract-dev"
   ]
  },
  {
   "cell_type": "code",
   "execution_count": null,
   "metadata": {},
   "outputs": [],
   "source": [
    "!pip install nest_asyncio"
   ]
  },
  {
   "cell_type": "code",
   "execution_count": 5,
   "metadata": {},
   "outputs": [],
   "source": [
    "import asyncio\n",
    "import nest_asyncio\n",
    "nest_asyncio.apply()\n",
    "from datafog import DataFog, OCRPIIAnnotator, TextPIIAnnotator\n",
    "import pandas as pd\n",
    "import os\n",
    "from IPython.display import Markdown\n",
    "import json"
   ]
  },
  {
   "cell_type": "markdown",
   "metadata": {},
   "source": [
    "### OCR Examples"
   ]
  },
  {
   "cell_type": "code",
   "execution_count": 7,
   "metadata": {},
   "outputs": [
    {
     "name": "stdout",
     "output_type": "stream",
     "text": [
      "['https://s3.amazonaws.com/thumbnails.venngage.com/template/dc377004-1c2d-49f2-8ddf-d63f11c8d9c2.png', 'https://templates.invoicehome.com/sales-receipt-template-us-classic-white-750px.png', 'https://newsroom.cisco.com/c/dam/r/newsroom/en/us/assets/a/y2023/m09/cisco_splunk_1200x675_v3.png', 'https://www.pdffiller.com/preview/101/35/101035394.png', 'https://www.pdffiller.com/preview/435/972/435972694.png', 'https://pbs.twimg.com/media/GM3-wpeWkAAP-cX.jpg']\n"
     ]
    }
   ],
   "source": [
    "image_set = {\n",
    "  \"medical_invoice\": \"https://s3.amazonaws.com/thumbnails.venngage.com/template/dc377004-1c2d-49f2-8ddf-d63f11c8d9c2.png\",\n",
    "  \"sales_receipt\": \"https://templates.invoicehome.com/sales-receipt-template-us-classic-white-750px.png\",\n",
    "  \"press_release\": \"https://newsroom.cisco.com/c/dam/r/newsroom/en/us/assets/a/y2023/m09/cisco_splunk_1200x675_v3.png\",\n",
    "  \"insurance_claim_scanned_form\": \"https://www.pdffiller.com/preview/101/35/101035394.png\",\n",
    "  \"scanned_internal_record\": \"https://www.pdffiller.com/preview/435/972/435972694.png\",\n",
    "  \"executive_email\": \"https://pbs.twimg.com/media/GM3-wpeWkAAP-cX.jpg\"\n",
    "}\n",
    "url_list = list(image_set.values())\n",
    "print(url_list)"
   ]
  },
  {
   "cell_type": "markdown",
   "metadata": {},
   "source": [
    "#### Use Case: Extract text from images"
   ]
  },
  {
   "cell_type": "code",
   "execution_count": 8,
   "metadata": {},
   "outputs": [],
   "source": [
    "datafog = DataFog(operations='extract_text')\n",
    "\n",
    "async def run_ocr_pipeline_demo():\n",
    "  results = await datafog.run_ocr_pipeline(url_list)\n",
    "  print(\"OCR Pipeline Results:\", results)"
   ]
  },
  {
   "cell_type": "code",
   "execution_count": 9,
   "metadata": {},
   "outputs": [
    {
     "name": "stdout",
     "output_type": "stream",
     "text": [
      "OCR Pipeline Results: [\"MEDICAL BILLING INVOICE\\n\\nPATIENT INFORMATION\\n\\nKemba Harris\\n(855) 595-5999\\n\\n11 Rosewood Drive,\\nCollingwood, NY 33580\\n\\nPERSCRIBING PHYSICIAN'S INFORMATION\\n\\nDr. Alanah Gomez\\n(855) 505-5000\\n\\n102 Trope Street,\\nNew York, NY 45568\\n\\nDATE\\n\\n07/01/23\\n\\nINVOICE NUMBER\\n\\n12245\\n\\nINVOICE DUE DATE\\n\\n07/30/23\\n\\nAmount DUE\\n\\n$1,745.00\\n\\nITEM DESCRIPTION AMOUNT\\nFull Check Up Full body check up $745.00\\n1,000.00\\nEar & Throat Examination Infection check due to inflammation sy\\nNOTES SUBTOTAL $745.00\\nA prescription has been written out for patient, TAXRATE 9%\\nfor an acute throat infection.\\nTAX $157.05\\nTOTAL $1,902.05\\n\\nConcordia Hill Hospital\\n\\nwww.concordiahill.com\\n\\nFor more information or any issues or concerns,\\nemail us at invoices@concordiahill.com\\n\\n\", 'East Repair Inc.\\n\\n1912 Harvest Lane\\nNew York, NY 12210\\n\\nSold To\\nJohn Smith,\\n\\n2 Court Square\\n\\nNew York, NY 12210\\n\\nShip To\\nJohn Smith\\n\\n3787 Pineview Drive\\nCambridge, MA 12210\\n\\nary DESCRIPTION\\n1 | Front and rear brake cables\\n2 | Newset of pedal arms\\n\\n3 | Labor 3hrs.\\n\\nTerms & Conditions\\nPayment is due within 15 days\\n\\nPlease make checks payable to: East Repair Inc.\\n\\nSALES RECEIPT\\n\\nReceipt # us-001\\nReceipt Date 11/02/2019\\nP.O# 2312/2019\\nDue Date 26/02/2019\\nUNIT PRICE AMOUNT\\n100.00 100.00\\n15.00 30.00\\n5.00 15.00\\nSubtotal 145.00\\nSales Tax 6.25% 9.06\\nTOTAL $154.06\\n\\nSmith\\n', 'otfuctfas\\nCISCO splunk>\\n', 'Sample 1500 Health Insurance Claim Form for Oral\\nSurgery Services\\n\\n', '', \"From: Kevin Scott\\n\\nSent: Wednesday, June 12, 2019 7:16:11 AM\\nTo: Satya Nadella; Bill Gates\\n\\nSubject: Re: Thoughts on OpenAl\\n\\n[Redacted]\\n\\nThe thing that's interesting about what Open Al and Deep Mind and Google Brain are doing is\\nthe scale of their ambition, and how that ambition is driving everything from datacenter design to\\ncompute silicon to networks and distributed systems architectures to numerical optimizers,\\ncompiler, programming frameworks, and the high level abstractions that model developers have\\nat their disposal. When all these programs were doing was competing with one another to see\\nwhich RL system could achieve the most impressive game-playing stunt, | has highly dismissive\\nof their efforts. That was a mistake.\\n\\nWhen they took all of the infrastructure that they had built to build NLP models that we couldn't\\neasily replicate, | started to take things more seriously. And as | dug in to try to understand\\nwhere all of the capability gaps were between Google and us for model training, | got very, very\\nworried. Turns out, just replicating BERT-large wasn't easy to do for us. Even though we had the\\ntemplate for the model, it took us ~6 months to get the model trained because our infrastructure\\nwasn't up to the task. Google had BERT for at least six months prior to that, so in the time that it\\ntook us to hack together the capability to train a 340M parameter model, they had a year to\\nfigure out how to get it into production and to move on to larger scale, more interesting models.\\nWe are already seeing the results of that work in our competitive analysis of their products. One\\nof the Q&A competitive metrics that we watch just jumped by 10 percentage points on Google\\nSearch because of BERT-like models. Their auto-complete in Gmail, which is especially useful\\nin the mobile app, is getting scarily good.\\n\\n[Redacted]\\n\\nWe have very smart ML people in Bind, in the vision team, and in the speech team. But the core\\ndeep learning teams within each of these bigger teams are very small, and their ambitions have\\nalso been constrained, which means that even as we start to feed them resources, they still\\nhave to go through a learning process to scale up. And we are multiple years behind the\\ncompetition in terms of ML scale.[Redacted]\\n\\nFrom: Satya Nadella\\n\\nTo: Kevin Scott\\n\\nCC: Amy Hood\\n\\nSent: 6/12/2019 6:02:47 PM\\n\\nSubject: Re: Thoughts on OpenAlVery good email that explains, why | want us to do this... and\\nalso why we will then ensure our infra folks execute.Amy - fyi\\n\\nSent from Mail for Windows 10\\n\"]\n"
     ]
    }
   ],
   "source": [
    "loop = asyncio.get_event_loop()\n",
    "loop.run_until_complete(run_ocr_pipeline_demo())"
   ]
  },
  {
   "cell_type": "markdown",
   "metadata": {},
   "source": [
    "#### Use Case: Extract text from images -> annotate for PII"
   ]
  },
  {
   "cell_type": "code",
   "execution_count": 10,
   "metadata": {},
   "outputs": [],
   "source": [
    "datafog = DataFog() # default operations is 'annotate_pii'\n",
    "\n",
    "async def run_ocr_pipeline_demo():\n",
    "  results = await datafog.run_ocr_pipeline(url_list)\n",
    "  print(\"OCR Pipeline Results:\", results)"
   ]
  },
  {
   "cell_type": "code",
   "execution_count": 11,
   "metadata": {},
   "outputs": [
    {
     "name": "stdout",
     "output_type": "stream",
     "text": [
      "OCR Pipeline Results: {\"MEDICAL BILLING INVOICE\\n\\nPATIENT INFORMATION\\n\\nKemba Harris\\n(855) 595-5999\\n\\n11 Rosewood Drive,\\nCollingwood, NY 33580\\n\\nPERSCRIBING PHYSICIAN'S INFORMATION\\n\\nDr. Alanah Gomez\\n(855) 505-5000\\n\\n102 Trope Street,\\nNew York, NY 45568\\n\\nDATE\\n\\n07/01/23\\n\\nINVOICE NUMBER\\n\\n12245\\n\\nINVOICE DUE DATE\\n\\n07/30/23\\n\\nAmount DUE\\n\\n$1,745.00\\n\\nITEM DESCRIPTION AMOUNT\\nFull Check Up Full body check up $745.00\\n1,000.00\\nEar & Throat Examination Infection check due to inflammation sy\\nNOTES SUBTOTAL $745.00\\nA prescription has been written out for patient, TAXRATE 9%\\nfor an acute throat infection.\\nTAX $157.05\\nTOTAL $1,902.05\\n\\nConcordia Hill Hospital\\n\\nwww.concordiahill.com\\n\\nFor more information or any issues or concerns,\\nemail us at invoices@concordiahill.com\\n\\n\": {'DATE_TIME': [], 'LOC': ['New York'], 'NRP': [], 'ORG': ['MEDICAL BILLING', 'Concordia Hill Hospital'], 'PER': ['Kemba Harris\\n', 'Rosewood Drive', 'Gomez\\n']}, 'East Repair Inc.\\n\\n1912 Harvest Lane\\nNew York, NY 12210\\n\\nSold To\\nJohn Smith,\\n\\n2 Court Square\\n\\nNew York, NY 12210\\n\\nShip To\\nJohn Smith\\n\\n3787 Pineview Drive\\nCambridge, MA 12210\\n\\nary DESCRIPTION\\n1 | Front and rear brake cables\\n2 | Newset of pedal arms\\n\\n3 | Labor 3hrs.\\n\\nTerms & Conditions\\nPayment is due within 15 days\\n\\nPlease make checks payable to: East Repair Inc.\\n\\nSALES RECEIPT\\n\\nReceipt # us-001\\nReceipt Date 11/02/2019\\nP.O# 2312/2019\\nDue Date 26/02/2019\\nUNIT PRICE AMOUNT\\n100.00 100.00\\n15.00 30.00\\n5.00 15.00\\nSubtotal 145.00\\nSales Tax 6.25% 9.06\\nTOTAL $154.06\\n\\nSmith\\n': {'DATE_TIME': ['15 days'], 'LOC': ['New York'], 'NRP': [], 'ORG': ['East Repair Inc.', 'Court Square\\n\\nNew York', 'MA', 'Front', 'Labor', 'East Repair Inc.'], 'PER': ['John Smith', 'John Smith', 'Newset']}, 'otfuctfas\\nCISCO splunk>\\n': {'DATE_TIME': [], 'LOC': [], 'NRP': [], 'ORG': [], 'PER': []}, 'Sample 1500 Health Insurance Claim Form for Oral\\nSurgery Services\\n\\n': {'DATE_TIME': [], 'LOC': [], 'NRP': [], 'ORG': ['Sample 1500 Health Insurance Claim Form', 'Oral\\nSurgery Services'], 'PER': []}, '': {'DATE_TIME': [], 'LOC': [], 'NRP': [], 'ORG': [], 'PER': []}, \"From: Kevin Scott\\n\\nSent: Wednesday, June 12, 2019 7:16:11 AM\\nTo: Satya Nadella; Bill Gates\\n\\nSubject: Re: Thoughts on OpenAl\\n\\n[Redacted]\\n\\nThe thing that's interesting about what Open Al and Deep Mind and Google Brain are doing is\\nthe scale of their ambition, and how that ambition is driving everything from datacenter design to\\ncompute silicon to networks and distributed systems architectures to numerical optimizers,\\ncompiler, programming frameworks, and the high level abstractions that model developers have\\nat their disposal. When all these programs were doing was competing with one another to see\\nwhich RL system could achieve the most impressive game-playing stunt, | has highly dismissive\\nof their efforts. That was a mistake.\\n\\nWhen they took all of the infrastructure that they had built to build NLP models that we couldn't\\neasily replicate, | started to take things more seriously. And as | dug in to try to understand\\nwhere all of the capability gaps were between Google and us for model training, | got very, very\\nworried. Turns out, just replicating BERT-large wasn't easy to do for us. Even though we had the\\ntemplate for the model, it took us ~6 months to get the model trained because our infrastructure\\nwasn't up to the task. Google had BERT for at least six months prior to that, so in the time that it\\ntook us to hack together the capability to train a 340M parameter model, they had a year to\\nfigure out how to get it into production and to move on to larger scale, more interesting models.\\nWe are already seeing the results of that work in our competitive analysis of their products. One\\nof the Q&A competitive metrics that we watch just jumped by 10 percentage points on Google\\nSearch because of BERT-like models. Their auto-complete in Gmail, which is especially useful\\nin the mobile app, is getting scarily good.\\n\\n[Redacted]\\n\\nWe have very smart ML people in Bind, in the vision team, and in the speech team. But the core\\ndeep learning teams within each of these bigger teams are very small, and their ambitions have\\nalso been constrained, which means that even as we start to feed them resources, they still\\nhave to go through a learning process to scale up. And we are multiple years behind the\\ncompetition in terms of ML scale.[Redacted]\\n\\nFrom: Satya Nadella\\n\\nTo: Kevin Scott\\n\\nCC: Amy Hood\\n\\nSent: 6/12/2019 6:02:47 PM\\n\\nSubject: Re: Thoughts on OpenAlVery good email that explains, why | want us to do this... and\\nalso why we will then ensure our infra folks execute.Amy - fyi\\n\\nSent from Mail for Windows 10\\n\": {'DATE_TIME': ['Wednesday', 'June 12, 2019', 'at least six months', '6/12/2019 6:02:47 PM'], 'LOC': ['Turns', 'Q&A', 'Gmail', 'Bind', 'Mail'], 'NRP': [], 'ORG': ['RL', 'NLP', 'Google', 'Google', 'BERT', 'Google\\nSearch', 'ML'], 'PER': ['Kevin Scott', 'Satya Nadella', 'Bill Gates', 'Thoughts', 'Open Al', 'Deep Mind', 'Google Brain', 'Satya Nadella', 'Kevin Scott', 'Amy Hood\\n\\nSent', 'Thoughts']}}\n"
     ]
    }
   ],
   "source": [
    "loop = asyncio.get_event_loop()\n",
    "loop.run_until_complete(run_ocr_pipeline_demo())"
   ]
  },
  {
   "cell_type": "markdown",
   "metadata": {},
   "source": [
    "### Text Annotation Examples"
   ]
  },
  {
   "cell_type": "markdown",
   "metadata": {},
   "source": [
    "#### Use Case: Annotate a folder of text files for PII"
   ]
  },
  {
   "cell_type": "code",
   "execution_count": 12,
   "metadata": {},
   "outputs": [
    {
     "name": "stdout",
     "output_type": "stream",
     "text": [
      "Cloning into 'b43b72693226422bac5f083c941ecfdb'...\n",
      "remote: Enumerating objects: 7, done.\u001b[K\n",
      "remote: Counting objects: 100% (7/7), done.\u001b[K\n",
      "remote: Compressing objects: 100% (7/7), done.\u001b[K\n",
      "remote: Total 7 (delta 4), reused 0 (delta 0), pack-reused 0\u001b[K\n",
      "Receiving objects: 100% (7/7), done.\n",
      "Resolving deltas: 100% (4/4), done.\n"
     ]
    }
   ],
   "source": [
    "!git clone https://gist.github.com/b43b72693226422bac5f083c941ecfdb.git"
   ]
  },
  {
   "cell_type": "code",
   "execution_count": null,
   "metadata": {},
   "outputs": [],
   "source": [
    "# Define the directory path\n",
    "folder_path = 'clinical_notes/'\n",
    "\n",
    "# List all files in the directory\n",
    "file_list = os.listdir(folder_path)\n",
    "text_files = sorted([file for file in file_list if file.endswith('.txt')])\n",
    "\n",
    "with open(os.path.join(folder_path, text_files[0]), 'r') as file:\n",
    "    clinical_note = file.read()\n",
    "\n",
    "display(Markdown(clinical_note))"
   ]
  },
  {
   "cell_type": "code",
   "execution_count": 14,
   "metadata": {},
   "outputs": [
    {
     "name": "stdout",
     "output_type": "stream",
     "text": [
      "Text Pipeline Results: {'\\n**Date:** April 10, 2024\\n\\n**Patient:** Emily Johnson, 35 years old\\n\\n**MRN:** 00987654\\n\\n**Chief Complaint:** \"I\\'ve been experiencing severe back pain and numbness in my legs.\"\\n\\n**History of Present Illness:** The patient is a 35-year-old who presents with a 2-month history of worsening back pain, numbness in both legs, and occasional tingling sensations. The patient reports working as a freelance writer and has been experiencing increased stress due to tight deadlines and financial struggles.\\n\\n**Past Medical History:** Hypothyroidism\\n\\n**Social History:**\\nThe patient shares a small apartment with two roommates and relies on public transportation. They mention feeling overwhelmed with work and personal responsibilities, often sacrificing sleep to meet deadlines. The patient expresses concern over the high cost of healthcare and the need for affordable medication options.\\n\\n**Review of Systems:** Denies fever, chest pain, or shortness of breath. Reports occasional headaches.\\n\\n**Physical Examination:**\\n- General: Appears tired but is alert and oriented.\\n- Vitals: BP 128/80, HR 72, Temp 98.6°F, Resp 14/min\\n\\n**Assessment/Plan:**\\n- Continue to monitor blood pressure and thyroid function.\\n- Discuss affordable medication options with a pharmacist.\\n- Refer to a social worker to address housing concerns and access to healthcare services.\\n- Encourage the patient to engage with community support groups for social support.\\n- Schedule a follow-up appointment in 4 weeks or sooner if symptoms worsen.\\n\\n**Comments:** The patient\\'s health concerns are compounded by socioeconomic factors, including employment status, housing stability, and access to healthcare. Addressing these social determinants of health is crucial for improving the patient\\'s overall well-being.\\n\\n': {'DATE_TIME': ['April 10, 2024', '35 years old', '35-year-old', '2-month', '4 weeks'], 'LOC': ['Appears'], 'NRP': ['Hypothyroidism'], 'ORG': ['Present Illness', 'Social History', 'Review of Systems'], 'PER': ['Emily Johnson']}}\n"
     ]
    }
   ],
   "source": [
    "async def run_text_pipeline_demo():\n",
    "  results = await datafog.run_text_pipeline(texts)\n",
    "  print(\"Text Pipeline Results:\", results)\n",
    "  return results\n",
    "\n",
    "\n",
    "texts = [clinical_note]\n",
    "loop = asyncio.get_event_loop()\n",
    "results = loop.run_until_complete(run_text_pipeline_demo())"
   ]
  },
  {
   "cell_type": "markdown",
   "metadata": {},
   "source": []
  }
 ],
 "metadata": {
  "kernelspec": {
   "display_name": "2.2.0b1",
   "language": "python",
   "name": "python3"
  },
  "language_info": {
   "codemirror_mode": {
    "name": "ipython",
    "version": 3
   },
   "file_extension": ".py",
   "mimetype": "text/x-python",
   "name": "python",
   "nbconvert_exporter": "python",
   "pygments_lexer": "ipython3",
   "version": "3.11.7"
  }
 },
 "nbformat": 4,
 "nbformat_minor": 2
}
