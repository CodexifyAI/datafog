{
 "cells": [
  {
   "cell_type": "markdown",
   "metadata": {},
   "source": [
    "<img src=\"../public/colorlogo.png\" width=\"50%\"/>\n",
    "\n",
    "\n",
    "[Homepage](https://www.datafog.ai) | \n",
    "[Discord](https://discord.gg/bzDth394R4) | \n",
    "[Github](https://github.com/datafog/datafog-python) | \n",
    "[Contact](mailto:sid@datafog.ai)\n",
    "\n"
   ]
  },
  {
   "cell_type": "markdown",
   "metadata": {},
   "source": [
    "## What we're covering\n",
    "\n",
    "In this notebook, we're covering how to use DataFog with different file types.\n",
    "\n"
   ]
  },
  {
   "cell_type": "code",
   "execution_count": null,
   "metadata": {},
   "outputs": [],
   "source": [
    "# Initialize\n",
    "%pip install datafog==2.4.0b1\n",
    "import json\n",
    "\n",
    "import requests\n",
    "import datafog\n",
    "from datafog import PresidioEngine as presidio\n",
    "import pandas as pd"
   ]
  },
  {
   "cell_type": "markdown",
   "metadata": {},
   "source": [
    "### JSON"
   ]
  },
  {
   "cell_type": "code",
   "execution_count": null,
   "metadata": {},
   "outputs": [],
   "source": [
    "# Load the JSON data from the URL\n",
    "url = \"https://gist.githubusercontent.com/sidmohan0/757185e0b9ff63fe00096baa0ce3fa45/raw/cb30da88e985d171bef281c927434cac52c239ea/sample.json\"\n",
    "data = requests.get(url).text\n",
    "# Parse the JSON data\n",
    "data = json.loads(data)\n",
    "# print(data)\n",
    "# Create a DataFrame from the JSON data\n",
    "df = pd.DataFrame(data)\n",
    "# print(df.shape)\n",
    "print(df.head(10))"
   ]
  },
  {
   "cell_type": "code",
   "execution_count": null,
   "metadata": {},
   "outputs": [],
   "source": [
    "ban_list = [\n",
    "    \"Cisco\",\n",
    "    \"Splunk\",\n",
    "    \"Tidal Partners LLC\",\n",
    "    \"$157 per share\",\n",
    "    \"$28 billion\",\n",
    "    \"equity value\",\n",
    "    \"Chuck Robbins\",\n",
    "    \"acquire\",\n",
    "    \"acquisition\",\n",
    "    \"September 21, 2023\",\n",
    "    \"5:15 am (PT)\",\n",
    "    \"8:15 am (ET)\",\n",
    "    \"conference call\",\n",
    "    \"AI-enabled security\",\n",
    "    \"observability\",\n",
    "    \"next generation\",\n",
    "    \"financial advisor\",\n",
    "    \"CEO_Google_Drive_Press_Release_Draft.docx\",\n",
    "]\n",
    "\n",
    "\n",
    "def scan_text(text):\n",
    "    return presidio.scan(text, deny_list=ban_list)\n",
    "\n",
    "\n",
    "df[\"scan_results\"] = df[\"text_chunk\"].apply(scan_text)"
   ]
  },
  {
   "cell_type": "code",
   "execution_count": null,
   "metadata": {},
   "outputs": [],
   "source": [
    "print(df[\"scan_results\"])"
   ]
  },
  {
   "cell_type": "markdown",
   "metadata": {},
   "source": [
    "### PDF"
   ]
  },
  {
   "cell_type": "code",
   "execution_count": null,
   "metadata": {},
   "outputs": [],
   "source": [
    "%pip list"
   ]
  },
  {
   "cell_type": "code",
   "execution_count": 3,
   "metadata": {},
   "outputs": [
    {
     "name": "stdout",
     "output_type": "stream",
     "text": [
      "{'agi-builder-meetup.pdf': \"2/26/24, 2:16 PM\\nAGI Builders Meetup SF · Luma\\nContact the HostReport Event29\\nEvent FullIf youʼd like, you can join the waitlist.Please click on the button below to join the waitlist.You will be notified if additional spots becomeavailable.\\nSubscribe\\nHosted ByEric LIU\\n5\\x0030pm - 6\\x0000pm: Doors open and check-in.\\nRegistration\\nFEBThursday, February 295\\x0030 PM - 8\\x0000 PM\\nOpen stage for AI builders, researchersand enthusiasts to share, inspire andtransform.\\nJoin Waitlist\\x00\\x00\\x00\\x00 PM PST\\nPresented byAGI Builders M…\\nAbout Event👋 We're thrilled to invite you to the first AGI Buildersmeetup on the leap day of 2024, February 29th.❤ It's a gathering where AI builders, researchers andenthusiasts share ideas, inspire peers and transform thefuture.💡 Participants can expect engaging tech talks coveringthe latest challenges and advancements in AI.🍕 Light refreshments will be available.Agenda:\\nAGI Builders Meetup SF\\nCloudflareSan Francisco, California\\nFeatured in Generative AI San Fra…\\nSign In\\nhttps://lu.ma/32549yyf\\n1/3\\n2/26/24, 2:16 PM\\nAGI Builders Meetup SF · Luma\\n7\\x0040pm - 8\\x0000pm: NetworkingAbout the hosts:Cloudflare helps organizations make employees,applications and networks faster & more secure.BentoML empowers developers to run any AI models inthe cloud and scale with confidence.Note:\\nThis event will be held in person, and due to limitedcapacity, registration is required for entry.Registration will close 2 days before the event.\\n7\\x0010pm - 7\\x0040pm: Enterprise Retrieval - AugmentedGeneration with LlamaIndex\\nWe host monthly meetups in San Francisco, havean idea you'd like to present at future events?Please apply here.\\nLocationCloudflare101 Townsend St, San Francisco, CA 94107, USA\\nby Chaoyu Yang, Founder & CEO, BentoML\\n6\\x0000pm - 6\\x0010pm: Opening\\nby Laurie Voss, VP Developer Relations,LlamaIndex\\n6\\x0040pm - 7\\x0010pm: RAG as a service with BentoML\\n6\\x0010pm - 6\\x0040pm: Phoney AI\\nby Craig Dennis, Developer Educator AI,Cloudflare\\nhttps://lu.ma/32549yyf\\n2/3\\n2/26/24, 2:16 PM\\nAGI Builders Meetup SF · Luma\\nWhat's NewExplorePricingHelp\\nMap data ©2024 Google\\nView larger map\\nhttps://lu.ma/32549yyf\\n3/3\\n\"}\n"
     ]
    }
   ],
   "source": [
    "input_file = \"/Users/sidmohan/Desktop/datafog-v2.4.0/datafog-python/tests/files/input_files/agi-builder-meetup.pdf\"\n",
    "output = datafog.DataFog.upload_file(uploaded_file_path=input_file)\n",
    "print(output)"
   ]
  }
 ],
 "metadata": {
  "kernelspec": {
   "display_name": ".venv",
   "language": "python",
   "name": "python3"
  },
  "language_info": {
   "codemirror_mode": {
    "name": "ipython",
    "version": 3
   },
   "file_extension": ".py",
   "mimetype": "text/x-python",
   "name": "python",
   "nbconvert_exporter": "python",
   "pygments_lexer": "ipython3",
   "version": "3.10.1"
  }
 },
 "nbformat": 4,
 "nbformat_minor": 2
}
