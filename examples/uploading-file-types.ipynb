{
 "cells": [
  {
   "cell_type": "markdown",
   "metadata": {},
   "source": [
    "<img src=\"../public/colorlogo.png\" width=\"50%\"/>\n",
    "\n",
    "\n",
    "[Homepage](https://www.datafog.ai) | \n",
    "[Discord](https://discord.gg/bzDth394R4) | \n",
    "[Github](https://github.com/datafog/datafog-python) | \n",
    "[Contact](mailto:sid@datafog.ai)\n",
    "\n"
   ]
  },
  {
   "cell_type": "markdown",
   "metadata": {},
   "source": [
    "## What we're covering\n",
    "\n",
    "In this notebook, we're covering how to use DataFog with different file types.\n",
    "\n"
   ]
  },
  {
   "cell_type": "code",
   "execution_count": null,
   "metadata": {},
   "outputs": [],
   "source": [
    "# Initialize\n",
    "%pip install datafog==2.4.0b4\n",
    "import json\n",
    "\n",
    "import requests\n",
    "import datafog\n",
    "from datafog import PresidioEngine as presidio\n",
    "import pandas as pd"
   ]
  },
  {
   "cell_type": "markdown",
   "metadata": {},
   "source": [
    "### JSON"
   ]
  },
  {
   "cell_type": "code",
   "execution_count": null,
   "metadata": {},
   "outputs": [],
   "source": [
    "# Load the JSON data from the URL\n",
    "url = \"https://gist.githubusercontent.com/sidmohan0/757185e0b9ff63fe00096baa0ce3fa45/raw/cb30da88e985d171bef281c927434cac52c239ea/sample.json\"\n",
    "data = requests.get(url).text\n",
    "# Parse the JSON data\n",
    "data = json.loads(data)\n",
    "# print(data)\n",
    "# Create a DataFrame from the JSON data\n",
    "df = pd.DataFrame(data)\n",
    "# print(df.shape)\n",
    "print(df.head(10))"
   ]
  },
  {
   "cell_type": "code",
   "execution_count": null,
   "metadata": {},
   "outputs": [],
   "source": [
    "ban_list = [\n",
    "    \"Cisco\",\n",
    "    \"Splunk\",\n",
    "    \"Tidal Partners LLC\",\n",
    "    \"$157 per share\",\n",
    "    \"$28 billion\",\n",
    "    \"equity value\",\n",
    "    \"Chuck Robbins\",\n",
    "    \"acquire\",\n",
    "    \"acquisition\",\n",
    "    \"September 21, 2023\",\n",
    "    \"5:15 am (PT)\",\n",
    "    \"8:15 am (ET)\",\n",
    "    \"conference call\",\n",
    "    \"AI-enabled security\",\n",
    "    \"observability\",\n",
    "    \"next generation\",\n",
    "    \"financial advisor\",\n",
    "    \"CEO_Google_Drive_Press_Release_Draft.docx\",\n",
    "]\n",
    "\n",
    "\n",
    "def scan_text(text):\n",
    "    return presidio.scan(text, deny_list=ban_list)\n",
    "\n",
    "\n",
    "df[\"scan_results\"] = df[\"text_chunk\"].apply(scan_text)"
   ]
  },
  {
   "cell_type": "code",
   "execution_count": null,
   "metadata": {},
   "outputs": [],
   "source": [
    "print(df[\"scan_results\"])"
   ]
  },
  {
   "cell_type": "markdown",
   "metadata": {},
   "source": [
    "### PDF"
   ]
  },
  {
   "cell_type": "code",
   "execution_count": null,
   "metadata": {},
   "outputs": [],
   "source": [
    "# Email confirmation for a event meetup\n",
    "# input_file = \"/Users/sidmohan/Desktop/datafog-v2.4.0/datafog-python/tests/files/input_files/agi-builder-meetup.pdf\"\n",
    "\n",
    "# readthedocs for PyPDF\n",
    "input_file = \"/Users/sidmohan/Desktop/datafog-v2.4.0/datafog-python/tests/files/input_files/pypdf-readthedocs-io-en-stable.pdf\"\n",
    "\n",
    "\n",
    "# input_file = \"/Users/sidmohan/Desktop/datafog-v2.4.0/datafog-python/tests/files/input_files/pypdf-readthedocs-io-en-stable.pdf\"\n",
    "output = datafog.DataFog.upload_file(uploaded_file_path=input_file)\n",
    "print(output)"
   ]
  },
  {
   "cell_type": "markdown",
   "metadata": {},
   "source": [
    "### Multiple PDFs\n",
    "\n",
    "\n"
   ]
  },
  {
   "cell_type": "code",
   "execution_count": null,
   "metadata": {},
   "outputs": [],
   "source": [
    "file_dir = [\n",
    "    \"/Users/sidmohan/Desktop/datafog-v2.4.0/datafog-python/tests/files/input_files/agi-builder-meetup.pdf\",\n",
    "    \"/Users/sidmohan/Desktop/datafog-v2.4.0/datafog-python/tests/files/input_files/pypdf-readthedocs-io-en-stable.pdf\",\n",
    "]\n",
    "datafog = datafog.DataFog()\n",
    "result = datafog.upload_files(uploaded_files=file_dir)\n",
    "print(result)"
   ]
  }
 ],
 "metadata": {
  "kernelspec": {
   "display_name": ".venv",
   "language": "python",
   "name": "python3"
  },
  "language_info": {
   "codemirror_mode": {
    "name": "ipython",
    "version": 3
   },
   "file_extension": ".py",
   "mimetype": "text/x-python",
   "name": "python",
   "nbconvert_exporter": "python",
   "pygments_lexer": "ipython3",
   "version": "3.10.1"
  }
 },
 "nbformat": 4,
 "nbformat_minor": 2
}
