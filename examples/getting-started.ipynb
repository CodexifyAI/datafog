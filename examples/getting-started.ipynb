{
 "cells": [
  {
   "cell_type": "markdown",
   "metadata": {},
   "source": [
    "<img src=\"../public/colorlogo.png\" width=\"50%\"/>\n",
    "\n",
    "\n",
    "[Homepage](https://www.datafog.ai) | \n",
    "[Discord](https://discord.gg/bzDth394R4) | \n",
    "[Github](https://github.com/datafog/datafog-python) | \n",
    "[Contact](mailto:sid@datafog.ai)\n",
    "\n"
   ]
  },
  {
   "cell_type": "markdown",
   "metadata": {},
   "source": [
    "# Getting Started"
   ]
  },
  {
   "cell_type": "markdown",
   "metadata": {},
   "source": [
    "Welcome to the DataFog Python SDK! This notebook will walk you through the basics of using the SDK to scan text for PII.\n",
    "\n",
    "Please consider this a living document - we will be focused on adding new content and guides to make using DataFog as easy as possible! If you have any questions or need help, please reach out to us on our [Discord](https://discord.gg/bzDth394R4) or email us at hi@datafog.ai.\n",
    "\n"
   ]
  },
  {
   "cell_type": "markdown",
   "metadata": {},
   "source": []
  },
  {
   "cell_type": "markdown",
   "metadata": {},
   "source": [
    "## Setup"
   ]
  },
  {
   "cell_type": "code",
   "execution_count": null,
   "metadata": {},
   "outputs": [],
   "source": [
    "%pip install datafog"
   ]
  },
  {
   "cell_type": "code",
   "execution_count": null,
   "metadata": {},
   "outputs": [],
   "source": [
    "import requests\n",
    "from datafog import PresidioEngine as presidio\n",
    "import pandas as pd"
   ]
  },
  {
   "cell_type": "markdown",
   "metadata": {},
   "source": [
    "## Detect PII in files"
   ]
  },
  {
   "cell_type": "markdown",
   "metadata": {},
   "source": [
    "### Base Case: Upload a file and scan for PII"
   ]
  },
  {
   "cell_type": "code",
   "execution_count": null,
   "metadata": {},
   "outputs": [],
   "source": [
    "# Download the transcript of the US State of the Union 2023\n",
    "url = \"https://bit.ly/datafog-sample-text-sotu-2023\"\n",
    "response = requests.get(url)\n",
    "file_contents = response.text\n",
    "df = pd.DataFrame({\"text\": [file_contents]})\n",
    "\n",
    "# Split the file contents into lines and remove empty lines\n",
    "lines = [line.strip() for line in file_contents.split(\"\\n\") if line.strip()]\n",
    "\n",
    "# Join the lines back into a single string\n",
    "cleaned_text = \"\\n\".join(lines)\n",
    "\n",
    "# Create a DataFrame with the cleaned text\n",
    "df = pd.DataFrame({\"text\": [cleaned_text]})\n",
    "\n",
    "# Print the DataFrame\n",
    "print(df)\n",
    "\n",
    "def scan_text(text):\n",
    "    return presidio.scan(text)\n",
    "\n",
    "df['scan_results'] = df['text'].apply(scan_text)\n"
   ]
  },
  {
   "cell_type": "markdown",
   "metadata": {},
   "source": [
    "### Screen for custom terms using the deny list\n"
   ]
  },
  {
   "cell_type": "code",
   "execution_count": null,
   "metadata": {},
   "outputs": [],
   "source": [
    "ceo_email_chunk = \"I'm announcing on Friday that Jeff is going to be CTO.\"\n",
    "\n",
    "scan_results1 = presidio.scan(ceo_email_chunk)\n",
    "print(\"PII Detected - base case:\", scan_results1)\n",
    "\n",
    "scan_results2 = presidio.scan(ceo_email_chunk, deny_list=['CTO'])\n",
    "print(\"PII Detected with deny list:\", scan_results2)"
   ]
  }
 ],
 "metadata": {
  "kernelspec": {
   "display_name": "Python 3",
   "language": "python",
   "name": "python3"
  },
  "language_info": {
   "codemirror_mode": {
    "name": "ipython",
    "version": 3
   },
   "file_extension": ".py",
   "mimetype": "text/x-python",
   "name": "python",
   "nbconvert_exporter": "python",
   "pygments_lexer": "ipython3",
   "version": "3.11.7"
  }
 },
 "nbformat": 4,
 "nbformat_minor": 2
}
