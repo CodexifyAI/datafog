{
 "cells": [
  {
   "cell_type": "markdown",
   "metadata": {},
   "source": [
    "# Getting Started"
   ]
  },
  {
   "cell_type": "markdown",
   "metadata": {},
   "source": [
    "Welcome to the DataFog Python SDK! This notebook will walk you through the basics of using the SDK to scan text for PII.\n",
    "\n",
    "Please consider this a living document - we will be focused on adding new content and guides to make your experience using DataFog as good as possible! "
   ]
  },
  {
   "cell_type": "markdown",
   "metadata": {},
   "source": [
    "## Setup"
   ]
  },
  {
   "cell_type": "code",
   "execution_count": null,
   "metadata": {},
   "outputs": [],
   "source": [
    "%pip install datafog"
   ]
  },
  {
   "cell_type": "code",
   "execution_count": 80,
   "metadata": {},
   "outputs": [],
   "source": [
    "import requests\n",
    "from datafog import PresidioEngine as datafog\n",
    "import pandas as pd"
   ]
  },
  {
   "cell_type": "markdown",
   "metadata": {},
   "source": [
    "## Detect PII in files"
   ]
  },
  {
   "cell_type": "markdown",
   "metadata": {},
   "source": [
    "### Base Case: Upload a file and scan for PII"
   ]
  },
  {
   "cell_type": "code",
   "execution_count": 81,
   "metadata": {},
   "outputs": [
    {
     "name": "stdout",
     "output_type": "stream",
     "text": [
      "                                                text\n",
      "0  Mr. Speaker, Madam Vice President, our First L...\n"
     ]
    }
   ],
   "source": [
    "# Download the transcript of the US State of the Union 2023\n",
    "url = \"https://bit.ly/datafog-sample-text-sotu-2023\"\n",
    "response = requests.get(url)\n",
    "file_contents = response.text\n",
    "df = pd.DataFrame({\"text\": [file_contents]})\n",
    "\n",
    "# Split the file contents into lines and remove empty lines\n",
    "lines = [line.strip() for line in file_contents.split(\"\\n\") if line.strip()]\n",
    "\n",
    "# Join the lines back into a single string\n",
    "cleaned_text = \"\\n\".join(lines)\n",
    "\n",
    "# Create a DataFrame with the cleaned text\n",
    "df = pd.DataFrame({\"text\": [cleaned_text]})\n",
    "\n",
    "# Print the DataFrame\n",
    "print(df)\n",
    "\n",
    "def scan_text(text):\n",
    "    return datafog.scan(text)\n",
    "\n",
    "df['scan_results'] = df['text'].apply(scan_text)\n"
   ]
  },
  {
   "cell_type": "markdown",
   "metadata": {},
   "source": [
    "### Redact custom terms using the deny list\n"
   ]
  },
  {
   "cell_type": "code",
   "execution_count": 82,
   "metadata": {},
   "outputs": [
    {
     "name": "stdout",
     "output_type": "stream",
     "text": [
      "PII Detected - base case: [type: PERSON, start: 30, end: 34, score: 0.85]\n",
      "PII Detected with deny list: [type: CUSTOM_PII, start: 50, end: 53, score: 1.0, type: PERSON, start: 30, end: 34, score: 0.85]\n"
     ]
    }
   ],
   "source": [
    "ceo_email_chunk = \"I'm announcing on Friday that Jeff is going to be CTO.\"\n",
    "\n",
    "scan_results1 = datafog.scan(ceo_email_chunk)\n",
    "print(\"PII Detected - base case:\", scan_results1)\n",
    "\n",
    "scan_results2 = datafog.scan(ceo_email_chunk, deny_list=['CTO'])\n",
    "print(\"PII Detected with deny list:\", scan_results2)"
   ]
  }
 ],
 "metadata": {
  "kernelspec": {
   "display_name": "Python 3",
   "language": "python",
   "name": "python3"
  },
  "language_info": {
   "codemirror_mode": {
    "name": "ipython",
    "version": 3
   },
   "file_extension": ".py",
   "mimetype": "text/x-python",
   "name": "python",
   "nbconvert_exporter": "python",
   "pygments_lexer": "ipython3",
   "version": "3.11.3"
  }
 },
 "nbformat": 4,
 "nbformat_minor": 2
}
