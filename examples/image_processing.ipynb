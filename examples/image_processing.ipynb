{
 "cells": [
  {
   "cell_type": "markdown",
   "metadata": {},
   "source": [
    "# Objective\n",
    "- OCR capabilities demonstration\n",
    "- Comparison between Tesseract and Donut (if applicable)"
   ]
  },
  {
   "cell_type": "code",
   "execution_count": 5,
   "metadata": {},
   "outputs": [],
   "source": [
    "!python -m venv venv\n",
    "!source venv/bin/activate"
   ]
  },
  {
   "cell_type": "code",
   "execution_count": 6,
   "metadata": {},
   "outputs": [
    {
     "name": "stdout",
     "output_type": "stream",
     "text": [
      "\n",
      "\u001b[1m[\u001b[0m\u001b[34;49mnotice\u001b[0m\u001b[1;39;49m]\u001b[0m\u001b[39;49m A new release of pip is available: \u001b[0m\u001b[31;49m24.0\u001b[0m\u001b[39;49m -> \u001b[0m\u001b[32;49m24.1.2\u001b[0m\n",
      "\u001b[1m[\u001b[0m\u001b[34;49mnotice\u001b[0m\u001b[1;39;49m]\u001b[0m\u001b[39;49m To update, run: \u001b[0m\u001b[32;49mpip install --upgrade pip\u001b[0m\n"
     ]
    }
   ],
   "source": [
    "!pip install --upgrade datafog --quiet"
   ]
  },
  {
   "cell_type": "code",
   "execution_count": 7,
   "metadata": {},
   "outputs": [
    {
     "name": "stdout",
     "output_type": "stream",
     "text": [
      "The operation couldn’t be completed. Unable to locate a Java Runtime that supports apt.\n",
      "Please visit http://www.java.com for information on installing Java.\n",
      "\n",
      "The operation couldn’t be completed. Unable to locate a Java Runtime that supports apt.\n",
      "Please visit http://www.java.com for information on installing Java.\n",
      "\n",
      "Requirement already satisfied: nest_asyncio in /Users/sidmohan/.pyenv/versions/3.11.7/envs/2.2.0b1/lib/python3.11/site-packages (1.6.0)\n",
      "\n",
      "\u001b[1m[\u001b[0m\u001b[34;49mnotice\u001b[0m\u001b[1;39;49m]\u001b[0m\u001b[39;49m A new release of pip is available: \u001b[0m\u001b[31;49m24.0\u001b[0m\u001b[39;49m -> \u001b[0m\u001b[32;49m24.1.2\u001b[0m\n",
      "\u001b[1m[\u001b[0m\u001b[34;49mnotice\u001b[0m\u001b[1;39;49m]\u001b[0m\u001b[39;49m To update, run: \u001b[0m\u001b[32;49mpip install --upgrade pip\u001b[0m\n"
     ]
    }
   ],
   "source": [
    "! apt install tesseract-ocr\n",
    "! apt install libtesseract-dev\n",
    "! pip install nest_asyncio"
   ]
  },
  {
   "cell_type": "code",
   "execution_count": 12,
   "metadata": {},
   "outputs": [],
   "source": [
    "import asyncio\n",
    "import nest_asyncio\n",
    "nest_asyncio.apply()\n",
    "from datafog import DataFog\n",
    "client = DataFog(operations=\"extract\")"
   ]
  },
  {
   "cell_type": "code",
   "execution_count": 14,
   "metadata": {},
   "outputs": [
    {
     "name": "stdout",
     "output_type": "stream",
     "text": [
      "OCR Pipeline Results: [\"MEDICAL BILLING INVOICE\\n\\nPATIENT INFORMATION\\n\\nKemba Harris\\n(855) 595-5999\\n\\n11 Rosewood Drive,\\nCollingwood, NY 33580\\n\\nPERSCRIBING PHYSICIAN'S INFORMATION\\n\\nDr. Alanah Gomez\\n(855) 505-5000\\n\\n102 Trope Street,\\nNew York, NY 45568\\n\\nDATE\\n\\n07/01/23\\n\\nINVOICE NUMBER\\n\\n12245\\n\\nINVOICE DUE DATE\\n\\n07/30/23\\n\\nAmount DUE\\n\\n$1,745.00\\n\\nITEM DESCRIPTION AMOUNT\\nFull Check Up Full body check up $745.00\\n1,000.00\\nEar & Throat Examination Infection check due to inflammation sy\\nNOTES SUBTOTAL $745.00\\nA prescription has been written out for patient, TAXRATE 9%\\nfor an acute throat infection.\\nTAX $157.05\\nTOTAL $1,902.05\\n\\nConcordia Hill Hospital\\n\\nwww.concordiahill.com\\n\\nFor more information or any issues or concerns,\\nemail us at invoices@concordiahill.com\\n\\n\"]\n"
     ]
    }
   ],
   "source": [
    "import re\n",
    "\n",
    "scanned_medical_record = \"https://s3.amazonaws.com/thumbnails.venngage.com/template/dc377004-1c2d-49f2-8ddf-d63f11c8d9c2.png\"\n",
    "\n",
    "def is_valid_url(url):\n",
    "    regex = re.compile(\n",
    "        r'^(?:http|ftp)s?://'  # http:// or https://\n",
    "        r'(?:(?:[A-Z0-9](?:[A-Z0-9-]{0,61}[A-Z0-9])?\\.)+(?:[A-Z]{2,6}\\.?|[A-Z0-9-]{2,}\\.?)|'  # domain...\n",
    "        r'localhost|'  # localhost...\n",
    "        r'\\d{1,3}\\.\\d{1,3}\\.\\d{1,3}\\.\\d{1,3}|'  # ...or ipv4\n",
    "        r'\\[?[A-F0-9]*:[A-F0-9:]+\\]?)'  # ...or ipv6\n",
    "        r'(?::\\d+)?'  # optional port\n",
    "        r'(?:/?|[/?]\\S+)$', re.IGNORECASE)\n",
    "    return re.match(regex, url) is not None\n",
    "\n",
    "async def run_ocr_pipeline_demo():\n",
    "    if not is_valid_url(scanned_medical_record):\n",
    "        print(\"Invalid URL:\", scanned_medical_record)\n",
    "        return\n",
    "\n",
    "    results = await client.run_ocr_pipeline(image_urls=[scanned_medical_record])\n",
    "    print(\"OCR Pipeline Results:\", results)\n",
    "\n",
    "loop = asyncio.get_event_loop()\n",
    "loop.run_until_complete(run_ocr_pipeline_demo())"
   ]
  }
 ],
 "metadata": {
  "kernelspec": {
   "display_name": "2.2.0b1",
   "language": "python",
   "name": "python3"
  },
  "language_info": {
   "codemirror_mode": {
    "name": "ipython",
    "version": 3
   },
   "file_extension": ".py",
   "mimetype": "text/x-python",
   "name": "python",
   "nbconvert_exporter": "python",
   "pygments_lexer": "ipython3",
   "version": "3.11.7"
  }
 },
 "nbformat": 4,
 "nbformat_minor": 2
}
