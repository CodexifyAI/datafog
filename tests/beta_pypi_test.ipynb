{
 "cells": [
  {
   "cell_type": "code",
   "execution_count": 18,
   "metadata": {},
   "outputs": [],
   "source": [
    "# clear existing virtual environment\n",
    "!rm -rf .datafog_env"
   ]
  },
  {
   "cell_type": "markdown",
   "metadata": {},
   "source": [
    "### Virtual Environment"
   ]
  },
  {
   "cell_type": "code",
   "execution_count": 19,
   "metadata": {},
   "outputs": [],
   "source": [
    "\n",
    "\n",
    "# create new virtual environment\n",
    "!python3 -m venv .datafog_env\n",
    "\n"
   ]
  },
  {
   "cell_type": "code",
   "execution_count": 20,
   "metadata": {},
   "outputs": [],
   "source": [
    "!source .datafog_env/bin/activate"
   ]
  },
  {
   "cell_type": "code",
   "execution_count": 21,
   "metadata": {},
   "outputs": [
    {
     "name": "stdout",
     "output_type": "stream",
     "text": [
      "Obtaining file:///Users/sidmohan/Desktop/datafog_local/datafog-python/datafog-python\n",
      "  Installing build dependencies ... \u001b[?25ldone\n",
      "\u001b[?25h  Checking if build backend supports build_editable ... \u001b[?25ldone\n",
      "\u001b[?25h  Getting requirements to build editable ... \u001b[?25ldone\n",
      "\u001b[?25h  Preparing editable metadata (pyproject.toml) ... \u001b[?25ldone\n",
      "\u001b[?25hRequirement already satisfied: pandas in /Users/sidmohan/.pyenv/versions/3.11.7/envs/2.2.0b1/lib/python3.11/site-packages (from datafog==3.2.1b3) (2.2.2)\n",
      "Requirement already satisfied: Requests==2.31.0 in /Users/sidmohan/.pyenv/versions/3.11.7/envs/2.2.0b1/lib/python3.11/site-packages (from datafog==3.2.1b3) (2.31.0)\n",
      "Requirement already satisfied: spacy==3.4.4 in /Users/sidmohan/.pyenv/versions/3.11.7/envs/2.2.0b1/lib/python3.11/site-packages (from datafog==3.2.1b3) (3.4.4)\n",
      "Requirement already satisfied: en-spacy-pii-fast==0.0.0 in /Users/sidmohan/.pyenv/versions/3.11.7/envs/2.2.0b1/lib/python3.11/site-packages (from datafog==3.2.1b3) (0.0.0)\n",
      "Requirement already satisfied: pydantic==1.10.15 in /Users/sidmohan/.pyenv/versions/3.11.7/envs/2.2.0b1/lib/python3.11/site-packages (from datafog==3.2.1b3) (1.10.15)\n",
      "Requirement already satisfied: Pillow in /Users/sidmohan/.pyenv/versions/3.11.7/envs/2.2.0b1/lib/python3.11/site-packages (from datafog==3.2.1b3) (10.3.0)\n",
      "Requirement already satisfied: sentencepiece in /Users/sidmohan/.pyenv/versions/3.11.7/envs/2.2.0b1/lib/python3.11/site-packages (from datafog==3.2.1b3) (0.2.0)\n",
      "Requirement already satisfied: protobuf in /Users/sidmohan/.pyenv/versions/3.11.7/envs/2.2.0b1/lib/python3.11/site-packages (from datafog==3.2.1b3) (4.25.3)\n",
      "Requirement already satisfied: pytesseract in /Users/sidmohan/.pyenv/versions/3.11.7/envs/2.2.0b1/lib/python3.11/site-packages (from datafog==3.2.1b3) (0.3.10)\n",
      "Requirement already satisfied: aiohttp in /Users/sidmohan/.pyenv/versions/3.11.7/envs/2.2.0b1/lib/python3.11/site-packages (from datafog==3.2.1b3) (3.9.5)\n",
      "Requirement already satisfied: pytest-asyncio in /Users/sidmohan/.pyenv/versions/3.11.7/envs/2.2.0b1/lib/python3.11/site-packages (from datafog==3.2.1b3) (0.23.6)\n",
      "Requirement already satisfied: typing-extensions>=4.2.0 in /Users/sidmohan/.pyenv/versions/3.11.7/envs/2.2.0b1/lib/python3.11/site-packages (from pydantic==1.10.15->datafog==3.2.1b3) (4.11.0)\n",
      "Requirement already satisfied: charset-normalizer<4,>=2 in /Users/sidmohan/.pyenv/versions/3.11.7/envs/2.2.0b1/lib/python3.11/site-packages (from Requests==2.31.0->datafog==3.2.1b3) (3.3.2)\n",
      "Requirement already satisfied: idna<4,>=2.5 in /Users/sidmohan/.pyenv/versions/3.11.7/envs/2.2.0b1/lib/python3.11/site-packages (from Requests==2.31.0->datafog==3.2.1b3) (3.7)\n",
      "Requirement already satisfied: urllib3<3,>=1.21.1 in /Users/sidmohan/.pyenv/versions/3.11.7/envs/2.2.0b1/lib/python3.11/site-packages (from Requests==2.31.0->datafog==3.2.1b3) (2.2.1)\n",
      "Requirement already satisfied: certifi>=2017.4.17 in /Users/sidmohan/.pyenv/versions/3.11.7/envs/2.2.0b1/lib/python3.11/site-packages (from Requests==2.31.0->datafog==3.2.1b3) (2024.2.2)\n",
      "Requirement already satisfied: spacy-legacy<3.1.0,>=3.0.10 in /Users/sidmohan/.pyenv/versions/3.11.7/envs/2.2.0b1/lib/python3.11/site-packages (from spacy==3.4.4->datafog==3.2.1b3) (3.0.12)\n",
      "Requirement already satisfied: spacy-loggers<2.0.0,>=1.0.0 in /Users/sidmohan/.pyenv/versions/3.11.7/envs/2.2.0b1/lib/python3.11/site-packages (from spacy==3.4.4->datafog==3.2.1b3) (1.0.5)\n",
      "Requirement already satisfied: murmurhash<1.1.0,>=0.28.0 in /Users/sidmohan/.pyenv/versions/3.11.7/envs/2.2.0b1/lib/python3.11/site-packages (from spacy==3.4.4->datafog==3.2.1b3) (1.0.10)\n",
      "Requirement already satisfied: cymem<2.1.0,>=2.0.2 in /Users/sidmohan/.pyenv/versions/3.11.7/envs/2.2.0b1/lib/python3.11/site-packages (from spacy==3.4.4->datafog==3.2.1b3) (2.0.8)\n",
      "Requirement already satisfied: preshed<3.1.0,>=3.0.2 in /Users/sidmohan/.pyenv/versions/3.11.7/envs/2.2.0b1/lib/python3.11/site-packages (from spacy==3.4.4->datafog==3.2.1b3) (3.0.9)\n",
      "Requirement already satisfied: thinc<8.2.0,>=8.1.0 in /Users/sidmohan/.pyenv/versions/3.11.7/envs/2.2.0b1/lib/python3.11/site-packages (from spacy==3.4.4->datafog==3.2.1b3) (8.1.12)\n",
      "Requirement already satisfied: wasabi<1.1.0,>=0.9.1 in /Users/sidmohan/.pyenv/versions/3.11.7/envs/2.2.0b1/lib/python3.11/site-packages (from spacy==3.4.4->datafog==3.2.1b3) (0.10.1)\n",
      "Requirement already satisfied: srsly<3.0.0,>=2.4.3 in /Users/sidmohan/.pyenv/versions/3.11.7/envs/2.2.0b1/lib/python3.11/site-packages (from spacy==3.4.4->datafog==3.2.1b3) (2.4.8)\n",
      "Requirement already satisfied: catalogue<2.1.0,>=2.0.6 in /Users/sidmohan/.pyenv/versions/3.11.7/envs/2.2.0b1/lib/python3.11/site-packages (from spacy==3.4.4->datafog==3.2.1b3) (2.0.10)\n",
      "Requirement already satisfied: typer<0.8.0,>=0.3.0 in /Users/sidmohan/.pyenv/versions/3.11.7/envs/2.2.0b1/lib/python3.11/site-packages (from spacy==3.4.4->datafog==3.2.1b3) (0.7.0)\n",
      "Requirement already satisfied: pathy>=0.3.5 in /Users/sidmohan/.pyenv/versions/3.11.7/envs/2.2.0b1/lib/python3.11/site-packages (from spacy==3.4.4->datafog==3.2.1b3) (0.11.0)\n",
      "Requirement already satisfied: smart-open<7.0.0,>=5.2.1 in /Users/sidmohan/.pyenv/versions/3.11.7/envs/2.2.0b1/lib/python3.11/site-packages (from spacy==3.4.4->datafog==3.2.1b3) (5.2.1)\n",
      "Requirement already satisfied: tqdm<5.0.0,>=4.38.0 in /Users/sidmohan/.pyenv/versions/3.11.7/envs/2.2.0b1/lib/python3.11/site-packages (from spacy==3.4.4->datafog==3.2.1b3) (4.66.4)\n",
      "Requirement already satisfied: numpy>=1.15.0 in /Users/sidmohan/.pyenv/versions/3.11.7/envs/2.2.0b1/lib/python3.11/site-packages (from spacy==3.4.4->datafog==3.2.1b3) (1.26.4)\n",
      "Requirement already satisfied: jinja2 in /Users/sidmohan/.pyenv/versions/3.11.7/envs/2.2.0b1/lib/python3.11/site-packages (from spacy==3.4.4->datafog==3.2.1b3) (3.1.4)\n",
      "Requirement already satisfied: setuptools in /Users/sidmohan/.pyenv/versions/3.11.7/envs/2.2.0b1/lib/python3.11/site-packages (from spacy==3.4.4->datafog==3.2.1b3) (58.1.0)\n",
      "Requirement already satisfied: packaging>=20.0 in /Users/sidmohan/.pyenv/versions/3.11.7/envs/2.2.0b1/lib/python3.11/site-packages (from spacy==3.4.4->datafog==3.2.1b3) (23.2)\n",
      "Requirement already satisfied: langcodes<4.0.0,>=3.2.0 in /Users/sidmohan/.pyenv/versions/3.11.7/envs/2.2.0b1/lib/python3.11/site-packages (from spacy==3.4.4->datafog==3.2.1b3) (3.3.0)\n",
      "Requirement already satisfied: aiosignal>=1.1.2 in /Users/sidmohan/.pyenv/versions/3.11.7/envs/2.2.0b1/lib/python3.11/site-packages (from aiohttp->datafog==3.2.1b3) (1.3.1)\n",
      "Requirement already satisfied: attrs>=17.3.0 in /Users/sidmohan/.pyenv/versions/3.11.7/envs/2.2.0b1/lib/python3.11/site-packages (from aiohttp->datafog==3.2.1b3) (23.2.0)\n",
      "Requirement already satisfied: frozenlist>=1.1.1 in /Users/sidmohan/.pyenv/versions/3.11.7/envs/2.2.0b1/lib/python3.11/site-packages (from aiohttp->datafog==3.2.1b3) (1.4.1)\n",
      "Requirement already satisfied: multidict<7.0,>=4.5 in /Users/sidmohan/.pyenv/versions/3.11.7/envs/2.2.0b1/lib/python3.11/site-packages (from aiohttp->datafog==3.2.1b3) (6.0.5)\n",
      "Requirement already satisfied: yarl<2.0,>=1.0 in /Users/sidmohan/.pyenv/versions/3.11.7/envs/2.2.0b1/lib/python3.11/site-packages (from aiohttp->datafog==3.2.1b3) (1.9.4)\n",
      "Requirement already satisfied: python-dateutil>=2.8.2 in /Users/sidmohan/.pyenv/versions/3.11.7/envs/2.2.0b1/lib/python3.11/site-packages (from pandas->datafog==3.2.1b3) (2.9.0.post0)\n",
      "Requirement already satisfied: pytz>=2020.1 in /Users/sidmohan/.pyenv/versions/3.11.7/envs/2.2.0b1/lib/python3.11/site-packages (from pandas->datafog==3.2.1b3) (2024.1)\n",
      "Requirement already satisfied: tzdata>=2022.7 in /Users/sidmohan/.pyenv/versions/3.11.7/envs/2.2.0b1/lib/python3.11/site-packages (from pandas->datafog==3.2.1b3) (2024.1)\n",
      "Requirement already satisfied: pytest<9,>=7.0.0 in /Users/sidmohan/.pyenv/versions/3.11.7/envs/2.2.0b1/lib/python3.11/site-packages (from pytest-asyncio->datafog==3.2.1b3) (8.0.2)\n",
      "Requirement already satisfied: pathlib-abc==0.1.1 in /Users/sidmohan/.pyenv/versions/3.11.7/envs/2.2.0b1/lib/python3.11/site-packages (from pathy>=0.3.5->spacy==3.4.4->datafog==3.2.1b3) (0.1.1)\n",
      "Requirement already satisfied: iniconfig in /Users/sidmohan/.pyenv/versions/3.11.7/envs/2.2.0b1/lib/python3.11/site-packages (from pytest<9,>=7.0.0->pytest-asyncio->datafog==3.2.1b3) (2.0.0)\n",
      "Requirement already satisfied: pluggy<2.0,>=1.3.0 in /Users/sidmohan/.pyenv/versions/3.11.7/envs/2.2.0b1/lib/python3.11/site-packages (from pytest<9,>=7.0.0->pytest-asyncio->datafog==3.2.1b3) (1.4.0)\n",
      "Requirement already satisfied: six>=1.5 in /Users/sidmohan/.pyenv/versions/3.11.7/envs/2.2.0b1/lib/python3.11/site-packages (from python-dateutil>=2.8.2->pandas->datafog==3.2.1b3) (1.16.0)\n",
      "Requirement already satisfied: blis<0.8.0,>=0.7.8 in /Users/sidmohan/.pyenv/versions/3.11.7/envs/2.2.0b1/lib/python3.11/site-packages (from thinc<8.2.0,>=8.1.0->spacy==3.4.4->datafog==3.2.1b3) (0.7.11)\n",
      "Requirement already satisfied: confection<1.0.0,>=0.0.1 in /Users/sidmohan/.pyenv/versions/3.11.7/envs/2.2.0b1/lib/python3.11/site-packages (from thinc<8.2.0,>=8.1.0->spacy==3.4.4->datafog==3.2.1b3) (0.1.4)\n",
      "Requirement already satisfied: click<9.0.0,>=7.1.1 in /Users/sidmohan/.pyenv/versions/3.11.7/envs/2.2.0b1/lib/python3.11/site-packages (from typer<0.8.0,>=0.3.0->spacy==3.4.4->datafog==3.2.1b3) (8.1.7)\n",
      "Requirement already satisfied: MarkupSafe>=2.0 in /Users/sidmohan/.pyenv/versions/3.11.7/envs/2.2.0b1/lib/python3.11/site-packages (from jinja2->spacy==3.4.4->datafog==3.2.1b3) (2.1.5)\n",
      "Building wheels for collected packages: datafog\n",
      "  Building editable for datafog (pyproject.toml) ... \u001b[?25ldone\n",
      "\u001b[?25h  Created wheel for datafog: filename=datafog-3.2.1b3-0.editable-py3-none-any.whl size=6942 sha256=19c91592c093edff7f3ab1c073aa39e545cde656fe889f2b8534be5012121915\n",
      "  Stored in directory: /private/var/folders/8r/bfx45hqn6lg5cbjnxjt2jdtm0000gn/T/pip-ephem-wheel-cache-ke4aeo6_/wheels/d0/c3/69/badf24afcbfead2b7a600b5b58c7ad0f020fd82029bbcf198e\n",
      "Successfully built datafog\n",
      "Installing collected packages: datafog\n",
      "  Attempting uninstall: datafog\n",
      "    Found existing installation: datafog 3.2.1b3\n",
      "    Uninstalling datafog-3.2.1b3:\n",
      "      Successfully uninstalled datafog-3.2.1b3\n",
      "Successfully installed datafog-3.2.1b3\n",
      "\n",
      "\u001b[1m[\u001b[0m\u001b[34;49mnotice\u001b[0m\u001b[1;39;49m]\u001b[0m\u001b[39;49m A new release of pip is available: \u001b[0m\u001b[31;49m23.2.1\u001b[0m\u001b[39;49m -> \u001b[0m\u001b[32;49m24.0\u001b[0m\n",
      "\u001b[1m[\u001b[0m\u001b[34;49mnotice\u001b[0m\u001b[1;39;49m]\u001b[0m\u001b[39;49m To update, run: \u001b[0m\u001b[32;49mpip install --upgrade pip\u001b[0m\n"
     ]
    }
   ],
   "source": [
    "\n",
    "# !pip install --pre --upgrade datafog \n",
    "!pip install -e ../\n"
   ]
  },
  {
   "cell_type": "code",
   "execution_count": 22,
   "metadata": {},
   "outputs": [],
   "source": [
    "from datafog import DataFog\n",
    "\n",
    "import json\n",
    "\n",
    "with open(\"image_set.json\", \"r\") as f:\n",
    "    image_set = json.load(f)\n",
    "    image_url = image_set[\"executive_email\"]\n",
    "\n",
    "datafog = DataFog()\n",
    "extracted_text = await datafog.run_ocr_pipeline([image_url])"
   ]
  },
  {
   "cell_type": "code",
   "execution_count": 17,
   "metadata": {},
   "outputs": [],
   "source": [
    "datafog = DataFog()"
   ]
  },
  {
   "cell_type": "code",
   "execution_count": 8,
   "metadata": {},
   "outputs": [
    {
     "name": "stdout",
     "output_type": "stream",
     "text": [
      "{\"From: Kevin Scott\\n\\nSent: Wednesday, June 12, 2019 7:16:11 AM\\nTo: Satya Nadella; Bill Gates\\n\\nSubject: Re: Thoughts on OpenAl\\n\\n[Redacted]\\n\\nThe thing that's interesting about what Open Al and Deep Mind and Google Brain are doing is\\nthe scale of their ambition, and how that ambition is driving everything from datacenter design to\\ncompute silicon to networks and distributed systems architectures to numerical optimizers,\\ncompiler, programming frameworks, and the high level abstractions that model developers have\\nat their disposal. When all these programs were doing was competing with one another to see\\nwhich RL system could achieve the most impressive game-playing stunt, | has highly dismissive\\nof their efforts. That was a mistake.\\n\\nWhen they took all of the infrastructure that they had built to build NLP models that we couldn't\\neasily replicate, | started to take things more seriously. And as | dug in to try to understand\\nwhere all of the capability gaps were between Google and us for model training, | got very, very\\nworried. Turns out, just replicating BERT-large wasn't easy to do for us. Even though we had the\\ntemplate for the model, it took us ~6 months to get the model trained because our infrastructure\\nwasn't up to the task. Google had BERT for at least six months prior to that, so in the time that it\\ntook us to hack together the capability to train a 340M parameter model, they had a year to\\nfigure out how to get it into production and to move on to larger scale, more interesting models.\\nWe are already seeing the results of that work in our competitive analysis of their products. One\\nof the Q&A competitive metrics that we watch just jumped by 10 percentage points on Google\\nSearch because of BERT-like models. Their auto-complete in Gmail, which is especially useful\\nin the mobile app, is getting scarily good.\\n\\n[Redacted]\\n\\nWe have very smart ML people in Bind, in the vision team, and in the speech team. But the core\\ndeep learning teams within each of these bigger teams are very small, and their ambitions have\\nalso been constrained, which means that even as we start to feed them resources, they still\\nhave to go through a learning process to scale up. And we are multiple years behind the\\ncompetition in terms of ML scale.[Redacted]\\n\\nFrom: Satya Nadella\\n\\nTo: Kevin Scott\\n\\nCC: Amy Hood\\n\\nSent: 6/12/2019 6:02:47 PM\\n\\nSubject: Re: Thoughts on OpenAlVery good email that explains, why | want us to do this... and\\nalso why we will then ensure our infra folks execute.Amy - fyi\\n\\nSent from Mail for Windows 10\\n\": {'DATE_TIME': ['Wednesday', 'June 12, 2019', 'at least six months', '6/12/2019 6:02:47 PM'], 'LOC': ['Turns', 'Q&A', 'Gmail', 'Bind', 'Mail'], 'NRP': [], 'ORG': ['RL', 'NLP', 'Google', 'Google', 'BERT', 'Google\\nSearch', 'ML'], 'PER': ['Kevin Scott', 'Satya Nadella', 'Bill Gates', 'Thoughts', 'Open Al', 'Deep Mind', 'Google Brain', 'Satya Nadella', 'Kevin Scott', 'Amy Hood\\n\\nSent', 'Thoughts']}}\n"
     ]
    }
   ],
   "source": [
    "print(extracted_text)"
   ]
  }
 ],
 "metadata": {
  "kernelspec": {
   "display_name": "2.2.0b1",
   "language": "python",
   "name": "python3"
  },
  "language_info": {
   "codemirror_mode": {
    "name": "ipython",
    "version": 3
   },
   "file_extension": ".py",
   "mimetype": "text/x-python",
   "name": "python",
   "nbconvert_exporter": "python",
   "pygments_lexer": "ipython3",
   "version": "3.11.7"
  }
 },
 "nbformat": 4,
 "nbformat_minor": 2
}
