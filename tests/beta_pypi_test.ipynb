{
 "cells": [
  {
   "cell_type": "code",
   "execution_count": null,
   "metadata": {},
   "outputs": [],
   "source": []
  },
  {
   "cell_type": "markdown",
   "metadata": {},
   "source": [
    "### Virtual Environment"
   ]
  },
  {
   "cell_type": "code",
   "execution_count": 16,
   "metadata": {},
   "outputs": [],
   "source": [
    "# clear existing virtual environment\n",
    "!rm -rf .datafog_env\n",
    "\n",
    "# create new virtual environment\n",
    "!python3 -m venv .datafog_env\n",
    "\n"
   ]
  },
  {
   "cell_type": "code",
   "execution_count": 17,
   "metadata": {},
   "outputs": [],
   "source": [
    "!source .datafog_env/bin/activate"
   ]
  },
  {
   "cell_type": "code",
   "execution_count": null,
   "metadata": {},
   "outputs": [],
   "source": [
    "\n",
    "!pip install --pre --upgrade datafog \n"
   ]
  },
  {
   "cell_type": "code",
   "execution_count": 7,
   "metadata": {},
   "outputs": [],
   "source": [
    "from datafog import DataFog\n",
    "\n",
    "import json\n",
    "\n",
    "with open(\"image_set.json\", \"r\") as f:\n",
    "    image_set = json.load(f)\n",
    "    image_url = image_set[\"executive_email\"]\n",
    "\n",
    "datafog = DataFog()\n",
    "extracted_text = await datafog.run_ocr_pipeline([image_url])"
   ]
  },
  {
   "cell_type": "code",
   "execution_count": 8,
   "metadata": {},
   "outputs": [
    {
     "name": "stdout",
     "output_type": "stream",
     "text": [
      "{\"From: Kevin Scott\\n\\nSent: Wednesday, June 12, 2019 7:16:11 AM\\nTo: Satya Nadella; Bill Gates\\n\\nSubject: Re: Thoughts on OpenAl\\n\\n[Redacted]\\n\\nThe thing that's interesting about what Open Al and Deep Mind and Google Brain are doing is\\nthe scale of their ambition, and how that ambition is driving everything from datacenter design to\\ncompute silicon to networks and distributed systems architectures to numerical optimizers,\\ncompiler, programming frameworks, and the high level abstractions that model developers have\\nat their disposal. When all these programs were doing was competing with one another to see\\nwhich RL system could achieve the most impressive game-playing stunt, | has highly dismissive\\nof their efforts. That was a mistake.\\n\\nWhen they took all of the infrastructure that they had built to build NLP models that we couldn't\\neasily replicate, | started to take things more seriously. And as | dug in to try to understand\\nwhere all of the capability gaps were between Google and us for model training, | got very, very\\nworried. Turns out, just replicating BERT-large wasn't easy to do for us. Even though we had the\\ntemplate for the model, it took us ~6 months to get the model trained because our infrastructure\\nwasn't up to the task. Google had BERT for at least six months prior to that, so in the time that it\\ntook us to hack together the capability to train a 340M parameter model, they had a year to\\nfigure out how to get it into production and to move on to larger scale, more interesting models.\\nWe are already seeing the results of that work in our competitive analysis of their products. One\\nof the Q&A competitive metrics that we watch just jumped by 10 percentage points on Google\\nSearch because of BERT-like models. Their auto-complete in Gmail, which is especially useful\\nin the mobile app, is getting scarily good.\\n\\n[Redacted]\\n\\nWe have very smart ML people in Bind, in the vision team, and in the speech team. But the core\\ndeep learning teams within each of these bigger teams are very small, and their ambitions have\\nalso been constrained, which means that even as we start to feed them resources, they still\\nhave to go through a learning process to scale up. And we are multiple years behind the\\ncompetition in terms of ML scale.[Redacted]\\n\\nFrom: Satya Nadella\\n\\nTo: Kevin Scott\\n\\nCC: Amy Hood\\n\\nSent: 6/12/2019 6:02:47 PM\\n\\nSubject: Re: Thoughts on OpenAlVery good email that explains, why | want us to do this... and\\nalso why we will then ensure our infra folks execute.Amy - fyi\\n\\nSent from Mail for Windows 10\\n\": {'DATE_TIME': ['Wednesday', 'June 12, 2019', 'at least six months', '6/12/2019 6:02:47 PM'], 'LOC': ['Turns', 'Q&A', 'Gmail', 'Bind', 'Mail'], 'NRP': [], 'ORG': ['RL', 'NLP', 'Google', 'Google', 'BERT', 'Google\\nSearch', 'ML'], 'PER': ['Kevin Scott', 'Satya Nadella', 'Bill Gates', 'Thoughts', 'Open Al', 'Deep Mind', 'Google Brain', 'Satya Nadella', 'Kevin Scott', 'Amy Hood\\n\\nSent', 'Thoughts']}}\n"
     ]
    }
   ],
   "source": [
    "print(extracted_text)"
   ]
  }
 ],
 "metadata": {
  "kernelspec": {
   "display_name": "2.2.0b1",
   "language": "python",
   "name": "python3"
  },
  "language_info": {
   "codemirror_mode": {
    "name": "ipython",
    "version": 3
   },
   "file_extension": ".py",
   "mimetype": "text/x-python",
   "name": "python",
   "nbconvert_exporter": "python",
   "pygments_lexer": "ipython3",
   "version": "3.11.7"
  }
 },
 "nbformat": 4,
 "nbformat_minor": 2
}
